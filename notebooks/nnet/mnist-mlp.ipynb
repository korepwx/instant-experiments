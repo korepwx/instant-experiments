{
 "cells": [
  {
   "cell_type": "code",
   "execution_count": 1,
   "metadata": {
    "collapsed": false
   },
   "outputs": [],
   "source": [
    "%matplotlib inline\n",
    "\n",
    "import numpy as np\n",
    "import os\n",
    "import shutil\n",
    "from sklearn.cross_validation import train_test_split"
   ]
  },
  {
   "cell_type": "code",
   "execution_count": 2,
   "metadata": {
    "collapsed": false
   },
   "outputs": [
    {
     "name": "stdout",
     "output_type": "stream",
     "text": [
      "Extracting ../../data/mnist/train-images-idx3-ubyte.gz\n",
      "Extracting ../../data/mnist/train-labels-idx1-ubyte.gz\n",
      "Extracting ../../data/mnist/t10k-images-idx3-ubyte.gz\n",
      "Extracting ../../data/mnist/t10k-labels-idx1-ubyte.gz\n"
     ]
    }
   ],
   "source": [
    "from tensorflow.examples.tutorials.mnist import input_data\n",
    "\n",
    "mnist = input_data.read_data_sets('../../data/mnist', one_hot=False)\n",
    "train_x, train_y, test_x, test_y = \\\n",
    "    mnist.train.images, mnist.train.labels, mnist.test.images, mnist.test.labels"
   ]
  },
  {
   "cell_type": "code",
   "execution_count": 3,
   "metadata": {
    "collapsed": false
   },
   "outputs": [
    {
     "data": {
      "text/plain": [
       "TensorFlowDNNClassifier(batch_size=32, class_weight=None, clip_gradients=5.0,\n",
       "            config=None, continue_training=False, dropout=0.5,\n",
       "            hidden_units=(128, 32), learning_rate=0.1, n_classes=10,\n",
       "            optimizer='Adagrad', steps=10000, verbose=0)"
      ]
     },
     "execution_count": 3,
     "metadata": {},
     "output_type": "execute_result"
    }
   ],
   "source": [
    "from tensorflow.contrib.learn import TensorFlowDNNClassifier\n",
    "from tensorflow.contrib.learn.python.learn.monitors import ValidationMonitor\n",
    "\n",
    "n_classes = 10\n",
    "log_dir = '../../tflogs/mnist-mlp'\n",
    "if os.path.isdir(log_dir):\n",
    "    shutil.rmtree(log_dir)\n",
    "    os.makedirs(log_dir)\n",
    "\n",
    "model = TensorFlowDNNClassifier(\n",
    "    hidden_units=(128, 32),\n",
    "    n_classes=n_classes,\n",
    "    steps=10000,\n",
    "    dropout=0.5,\n",
    "    verbose=0\n",
    ")\n",
    "model.fit(train_x, train_y, logdir=log_dir)"
   ]
  },
  {
   "cell_type": "code",
   "execution_count": 4,
   "metadata": {
    "collapsed": false
   },
   "outputs": [
    {
     "data": {
      "text/plain": [
       "0.038199999999999998"
      ]
     },
     "execution_count": 4,
     "metadata": {},
     "output_type": "execute_result"
    }
   ],
   "source": [
    "np.sum(model.predict(test_x) != test_y) / float(test_x.shape[0])"
   ]
  }
 ],
 "metadata": {
  "kernelspec": {
   "display_name": "Python 3",
   "language": "python",
   "name": "python3"
  },
  "language_info": {
   "codemirror_mode": {
    "name": "ipython",
    "version": 3
   },
   "file_extension": ".py",
   "mimetype": "text/x-python",
   "name": "python",
   "nbconvert_exporter": "python",
   "pygments_lexer": "ipython3",
   "version": "3.5.1"
  }
 },
 "nbformat": 4,
 "nbformat_minor": 0
}
